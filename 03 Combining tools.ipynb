{
 "cells": [
  {
   "cell_type": "markdown",
   "metadata": {},
   "source": [
    "# Combining tools\n",
    "The real power of the Unix shell lies not in the individual commands, but in how easily they can be combined to do new things. This chapter will show you how to use this power to select the data you want, and introduce commands for sorting values and removing duplicates.\n",
    "\n",
    "## How can I store a command's output in a file?\n",
    "- You can use **redirection** to save any command's output anywhere you want\n",
    "- If you run the command,\n",
    "\n",
    "        head -n 5 seasonal/summer.csv\n",
    "\n",
    "    it prints the first 5 lines of the summer data on the screen.\n",
    "\n",
    "- If you run this command instead,\n",
    "\n",
    "        head -n 5 seasonal/summer.csv > top.csv\n",
    "\n",
    "    nothing appears on the screen. Instead, `head`'s output is put in a new file called `top.csv`\n",
    "\n",
    "- You can view the file's contents using `cat`,\n",
    "\n",
    "        cat top.csv\n",
    "\n",
    "- The greater-than sign `>` tells the shell to redirect `head`'s output to a file\n",
    "    - It works with every shell command that produces an output\n",
    "\n",
    "## How can I use a command's output as an input?\n",
    "- Suppose you want to get lines from the middle of a file\n",
    "- More specifically you want lines 3-5 from a file\n",
    "- You can start by using `head` to get the first 5 lines and redirect that to a file\n",
    "    - You can then use `tail` to select the last 3 lines of that file\n",
    "\n",
    "\n",
    "        head -n 5 seasonal/winter.csv > top.csv\n",
    "        tail -n 3 top.csv\n",
    "\n",
    "## What's a better way to combine commands?\n",
    "- Using redirection to combine commands has two drawbacks:\n",
    "    1. It leaves a lot of intermediate files lying around (like `top.csv`)\n",
    "    2. The commands to produce your final result are scattered across several lines of history\n",
    "- The shell provides another tools that solves both these problems at once called a **pipe**\n",
    "- Instead of sending `head`'s output to a file, add a vertical bar and the `tail` command *without* a file name,\n",
    "\n",
    "        head -n 5 seasonal/summer.csv | tail -n 3\n",
    "\n",
    "- The pipe symbol tells shell to use the output of the command on the left as the input to the command on the right\n",
    "\n",
    "\n",
    "## How can I combine many commands?\n",
    "- You can chain any number of commands together,\n",
    "- For example,\n",
    "\n",
    "        cut -d , -f 1 seasonal/spring.csv | grep -v Date | head -n 10\n",
    "\n",
    "    will,\n",
    "    1. select the first column from the spring data;\n",
    "    2. remove the header line containing the word \"Date\"; and\n",
    "    3. select the first 10 lines of actual data."
   ]
  }
 ],
 "metadata": {
  "kernelspec": {
   "display_name": "Python 3.9.13 64-bit",
   "language": "python",
   "name": "python3"
  },
  "language_info": {
   "name": "python",
   "version": "3.9.13"
  },
  "orig_nbformat": 4,
  "vscode": {
   "interpreter": {
    "hash": "b0fa6594d8f4cbf19f97940f81e996739fb7646882a419484c72d19e05852a7e"
   }
  }
 },
 "nbformat": 4,
 "nbformat_minor": 2
}
